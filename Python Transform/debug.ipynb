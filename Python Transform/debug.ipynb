{
 "cells": [
  {
   "cell_type": "markdown",
   "metadata": {},
   "source": [
    "# Form 1"
   ]
  },
  {
   "cell_type": "code",
   "execution_count": 13,
   "metadata": {},
   "outputs": [],
   "source": [
    "import pandas as pd\n",
    "import logging\n",
    "import datetime\n",
    "from indices import form_1_indices as INDICES\n",
    "\n",
    "\n",
    "csv_list = ['./Reports/1.csv', './Reports/2.csv', './Reports/3.csv', './Reports/4.csv']\n",
    "# Add Logging\n",
    "logger = logging.getLogger()\n",
    "logger.setLevel(logging.DEBUG)\n",
    "fh = logging.FileHandler('transform_logs.log', encoding='utf-8')\n",
    "fh.setLevel(logging.DEBUG)\n",
    "logger.addHandler(fh)\n",
    "# Add name\n",
    "NAME = 'report_form_1.py'\n",
    "\n",
    "def construct_df(csv_list):\n",
    "    '''\n",
    "    Linear time: ~10 sec per 1 day\n",
    "    '''\n",
    "    def create_pivot(df):\n",
    "        # Run Transforms for this day\n",
    "        pivot_df_mistakes = df.pivot_table(index='Имя колл-листа', columns='Дата', values='Ошибки', aggfunc='sum')\n",
    "        pivot_df_mistakes = pivot_df_mistakes.fillna(0)\n",
    "        pivot_df_mistakes = pivot_df_mistakes.replace(0.00, '')\n",
    "        pivot_df_mistakes.columns = pd.to_datetime(pivot_df_mistakes.columns, format='%d.%m.%Y')  # Fix date Time\n",
    "        pivot_df_mistakes = pivot_df_mistakes.sort_index(axis=1)  # Fix date Time\n",
    "        tmp_pivot_df_mistakes = pivot_df_mistakes.copy()  # Fix %%\n",
    "        pivot_df_mistakes.index = pivot_df_mistakes.index + ' (ошибки шт.)'\n",
    "        # Create dynamic Calls count (2)\n",
    "        pivot_df_calls = df.pivot_table(index='Имя колл-листа', columns='Дата', values='Результат автооценки', aggfunc='count', fill_value=0)\n",
    "        pivot_df_calls.columns = pd.to_datetime(pivot_df_calls.columns, format='%d.%m.%Y')  # Fix date Time\n",
    "        pivot_df_calls = pivot_df_calls.sort_index(axis=1)  # Fix date Time\n",
    "        tmp_pivot_df_calls = pivot_df_calls.copy()  # Fix %%\n",
    "        pivot_df_calls.index = pivot_df_calls.index + ' (всего шт.)'\n",
    "        # Create dynamic Mean Autoscore (3)\n",
    "        pivot_df_mean = df.pivot_table(index='Имя колл-листа', columns='Дата', values='Результат автооценки', aggfunc='mean', fill_value='')\n",
    "        pivot_df_mean.columns = pd.to_datetime(pivot_df_mean.columns, format='%d.%m.%Y')  # Fix date Time\n",
    "        pivot_df_mean = pivot_df_mean.sort_index(axis=1)  # Fix date Time\n",
    "        pivot_df_mean.index = pivot_df_mean.index + ' (средняя АО)'\n",
    "        # Create dynamic Error Percentage (4)\n",
    "        pivot_df_mistakes_filled = tmp_pivot_df_mistakes.replace('', 0)\n",
    "        pivot_df_error_rate = (pivot_df_mistakes_filled / tmp_pivot_df_calls).applymap(lambda x: x if not pd.isna(x) else '')\n",
    "        pivot_df_error_rate.index = pivot_df_error_rate.index + ' (доля ошибок %)'\n",
    "        # Create Mega-Pivot\n",
    "        # Concatenate the pivot tables vertically along rows (axis=0)\n",
    "        pivot_table = pd.concat([pivot_df_mistakes, pivot_df_calls, pivot_df_mean, pivot_df_error_rate], axis=0)\n",
    "        pivot_table = pivot_table.sort_index()\n",
    "        return pivot_table\n",
    "    # Concatenate all csv to a single biiig df\n",
    "    df_main = pd.DataFrame(index=INDICES)\n",
    "    df_rpc = pd.DataFrame(index=INDICES)\n",
    "    for i in csv_list:\n",
    "        '''\n",
    "        Take report files 1-by-1 and the merge then on external index from indices.py\n",
    "        This will cut RAM cost 30 times (and make shit slower)\n",
    "        '''\n",
    "        # Merge 2 frames\n",
    "        df = pd.read_csv(i, sep=';', encoding='utf-8',header=0)\n",
    "        # Remove мультидоговоры for RSB\n",
    "        mask = df['№ п/п'].isna()\n",
    "        df = df[~mask]\n",
    "        # Convert the 'Длительность звонка' column to Timedelta\n",
    "        df['Длительность звонка'] = pd.to_timedelta(df['Длительность звонка'])\n",
    "        df['Ошибки'] = df['Результат автооценки'] != 100\n",
    "        # Fix Date\n",
    "        df['Дата'] = pd.to_datetime(df['Дата звонка'], format='%d.%m.%Y %H:%M:%S')\n",
    "        df['Дата'] = df['Дата'].dt.strftime('%d.%m.%Y')\n",
    "        df = df.reset_index(drop=True)\n",
    "        # Create RPC\n",
    "        rpc_df = df[df['Контактное лицо'] == 'Должник']\n",
    "        # Warn if dates != 1\n",
    "        if len(df['Дата'].unique().tolist()) > 1:\n",
    "            logger.warning('%s Warning: more than a single date in df...', datetime.datetime.now())\n",
    "\n",
    "        # MEMORY MANAGEMENT: CONCAT TO INDEX AND DELETE\n",
    "        main_pivot = create_pivot(df)\n",
    "        df_main = pd.concat([df_main, main_pivot], axis=1)\n",
    "        del main_pivot  # Save 10MB\n",
    "        rpc_pivot = create_pivot(rpc_df)\n",
    "        df_rpc = pd.concat([df_main, rpc_pivot], axis=1)\n",
    "        del rpc_pivot  # Save 10MB\n",
    "    # Returns 2 complete pivots\n",
    "    return df_main, df_rpc"
   ]
  },
  {
   "cell_type": "code",
   "execution_count": 14,
   "metadata": {},
   "outputs": [],
   "source": [
    "i, j = construct_df(csv_list=csv_list)"
   ]
  },
  {
   "cell_type": "markdown",
   "metadata": {},
   "source": []
  }
 ],
 "metadata": {
  "kernelspec": {
   "display_name": "Python 3",
   "language": "python",
   "name": "python3"
  },
  "language_info": {
   "codemirror_mode": {
    "name": "ipython",
    "version": 3
   },
   "file_extension": ".py",
   "mimetype": "text/x-python",
   "name": "python",
   "nbconvert_exporter": "python",
   "pygments_lexer": "ipython3",
   "version": "3.7.9"
  },
  "orig_nbformat": 4
 },
 "nbformat": 4,
 "nbformat_minor": 2
}
