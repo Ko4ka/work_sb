{
 "cells": [
  {
   "cell_type": "code",
   "execution_count": 47,
   "metadata": {},
   "outputs": [],
   "source": [
    "import pandas as pd\n",
    "\n",
    "df = pd.read_csv('./Reports/pochta_markers_full.csv',\n",
    "                 sep=';',\n",
    "                 encoding='utf-8',\n",
    "                 header=0 )\n",
    "unique_markers = df['Маркер'].unique().tolist()"
   ]
  },
  {
   "cell_type": "code",
   "execution_count": 48,
   "metadata": {},
   "outputs": [],
   "source": [
    "# Forward fill NaN values in 'Маркер' column\n",
    "df.fillna(method='ffill', inplace=True)\n",
    "\n",
    "# Create a pivot table with 'Маркер' as columns and 'Маркер - количество совпадений' as values\n",
    "pivot_df = df.pivot_table(index=['№ п/п', 'ID звонка', 'Оператор', 'Дата звонка', 'Длительность звонка', 'Всего пауз, сек'], columns='Маркер', values='Маркер - количество совпадений').reset_index()\n",
    "\n",
    "# Reset the index and rename the columns\n",
    "pivot_df.columns.name = None  # Remove the columns' name\n",
    "\n",
    "# Fill NaN values with 0 if needed\n",
    "pivot_df = pivot_df.fillna(0)\n",
    "\n",
    "# Now, 'pivot_df' contains the desired structure with 'Маркер' values as columns.\n",
    "\n"
   ]
  },
  {
   "cell_type": "markdown",
   "metadata": {},
   "source": [
    "Работаем с получившейся простыней"
   ]
  },
  {
   "cell_type": "code",
   "execution_count": 49,
   "metadata": {},
   "outputs": [],
   "source": [
    "# Обязательная часть\n",
    "df = pivot_df\n",
    "df['Длительность звонка'] = pd.to_timedelta(df['Длительность звонка'])\n",
    "df['Дата'] = pd.to_datetime(df['Дата звонка'], format='%d.%m.%Y %H:%M:%S')\n",
    "df['Дата'] = df['Дата'].dt.strftime('%d.%m.%Y')\n",
    "df = df.reset_index(drop=True)"
   ]
  },
  {
   "cell_type": "code",
   "execution_count": 50,
   "metadata": {},
   "outputs": [],
   "source": [
    "# Свожу универсальную простыню с маркерами\n",
    "pivot_df = df.pivot_table(index='Оператор', aggfunc='sum')"
   ]
  },
  {
   "cell_type": "code",
   "execution_count": 69,
   "metadata": {},
   "outputs": [],
   "source": [
    "# Blocks dfs\n",
    "blocks = [0, [], [], [], [], [], [], []]\n",
    "for i in df.columns:\n",
    "    for j in range(1, 8):\n",
    "        if str(j) in i[:1]: \n",
    "            blocks[j].append(i)\n",
    "# Politeness\n",
    "products = [\n",
    "    'ИИС+ПИФ',\n",
    "    'ИСЖ',\n",
    "    'Категория КК',\n",
    "    'Моя карта ',\n",
    "    'Мультибонус',\n",
    "    'Вклады',\n",
    "    'Вездедоход (КК)'\n",
    "\n",
    "]\n",
    "# Warning\n",
    "negativity = [\n",
    "'Слова-паразиты',\n",
    "'Нарушение стандартов взаимодействия. Провоцирование конфликтов. ', \n",
    "'Нежелательные выражения',\n",
    "'Нецензурная лексика']\n",
    "# Start\n",
    "politeness = [\n",
    "'Соблюдение стандартов взаимодействия. Вежливость+эмпатия в процессе обслуживания (Стандарты)',\n",
    "'Соблюдение стандартов взаимодействия. Положительные эмоции',\n",
    "'Соблюдение стандартов взаимодействия. Эмпатия.',\n",
    "'Эмпатия и Заинтересованность'\n",
    "] "
   ]
  },
  {
   "cell_type": "code",
   "execution_count": 8,
   "metadata": {},
   "outputs": [],
   "source": [
    "\n",
    "# Remove \"NaN\" strings from the list\n",
    "unique_markers = [x for x in unique_markers if type(x) is str]"
   ]
  },
  {
   "cell_type": "code",
   "execution_count": 22,
   "metadata": {},
   "outputs": [],
   "source": [
    "rf = df.pivot_table(index='Оператор', values=unique_markers, aggfunc='sum')\n",
    "rm = df.pivot_table(index='Оператор', values='Длительность звонка', aggfunc='sum')\n",
    "tm = df.pivot_table(index='Оператор', values='Всего пауз, сек', aggfunc='sum')"
   ]
  },
  {
   "cell_type": "code",
   "execution_count": 75,
   "metadata": {},
   "outputs": [
    {
     "data": {
      "text/plain": [
       "['1. Установка контакта. Приветствие',\n",
       " '1.2 Установка контакта. Представление',\n",
       " '1.3 Установка контакта. Уточнение имени клиента',\n",
       " '1.4 Установка контакта. Уточнение цели клиента',\n",
       " '1.5 Установка контакта. Определение профиля клиента',\n",
       " '1.6 Установка контакта. Актуализация контактных данных']"
      ]
     },
     "execution_count": 75,
     "metadata": {},
     "output_type": "execute_result"
    }
   ],
   "source": [
    "blocks[1]"
   ]
  },
  {
   "cell_type": "code",
   "execution_count": 87,
   "metadata": {},
   "outputs": [],
   "source": [
    "# TAB 1 SUMMARY\n",
    "block_1 = pivot_df[blocks[1]].sum(axis=1)\n",
    "block_1.columns = 'Gbkfglg'\n",
    "block_2 = pivot_df[blocks[2]].sum(axis=1)\n",
    "block_3 = pivot_df[blocks[3]].sum(axis=1)\n",
    "block_4 = pivot_df[blocks[4]].sum(axis=1)\n",
    "block_5 = pivot_df[blocks[5]].sum(axis=1)\n",
    "block_6 = pivot_df[blocks[6]].sum(axis=1)\n",
    "block_7 = pivot_df[blocks[7]].sum(axis=1)\n",
    "script_df = pd.concat([block_1, block_2, block_3, block_4, block_5, block_6, block_7], axis=1)\n",
    "# TAB 2 ПРОДУКТЫ\n",
    "products_df = pivot_df[products]\n",
    "# TAB 2 НЕГАТИВ\n",
    "negative_df = pivot_df[negativity]\n",
    "# TAB 3 Вежливость\n",
    "politeness_df = pivot_df[politeness]\n",
    "\n",
    "# "
   ]
  },
  {
   "cell_type": "code",
   "execution_count": 88,
   "metadata": {},
   "outputs": [
    {
     "data": {
      "text/plain": [
       "Оператор\n",
       "Бохан Инна                0.0\n",
       "Валгуцкова Наталья     1058.0\n",
       "Варнавина Марина       1749.0\n",
       "Гугнина Валентина        48.0\n",
       "Давтян Мариам           427.0\n",
       "Евтеев Руслан           231.0\n",
       "Еженкова Виктория        22.0\n",
       "Кирия Татьяна           262.0\n",
       "Кичук Павел             414.0\n",
       "Колгушкина Мария        117.0\n",
       "Мажидова Сумият           0.0\n",
       "Молоткова Елена           0.0\n",
       "Первова Алена           669.0\n",
       "Пригода Ольга             2.0\n",
       "Пургина Елена           365.0\n",
       "Сапожникова Надежда     507.0\n",
       "Сапожникова Олеся         0.0\n",
       "Тоноян Мелсида          204.0\n",
       "dtype: float64"
      ]
     },
     "execution_count": 88,
     "metadata": {},
     "output_type": "execute_result"
    }
   ],
   "source": [
    "block_1"
   ]
  },
  {
   "cell_type": "code",
   "execution_count": null,
   "metadata": {},
   "outputs": [],
   "source": [
    "#b123"
   ]
  },
  {
   "cell_type": "code",
   "execution_count": null,
   "metadata": {},
   "outputs": [],
   "source": []
  }
 ],
 "metadata": {
  "kernelspec": {
   "display_name": "Python 3",
   "language": "python",
   "name": "python3"
  },
  "language_info": {
   "codemirror_mode": {
    "name": "ipython",
    "version": 3
   },
   "file_extension": ".py",
   "mimetype": "text/x-python",
   "name": "python",
   "nbconvert_exporter": "python",
   "pygments_lexer": "ipython3",
   "version": "3.7.9"
  },
  "orig_nbformat": 4
 },
 "nbformat": 4,
 "nbformat_minor": 2
}
